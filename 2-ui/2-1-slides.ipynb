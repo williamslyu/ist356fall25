{
 "cells": [
  {
   "cell_type": "markdown",
   "metadata": {},
   "source": [
    "# UI 2-1\n",
    "\n",
    "Ipywidgets and Interact in Jupyter\n"
   ]
  },
  {
   "cell_type": "markdown",
   "metadata": {},
   "source": [
    "## Notebook widgets:  ipywidgets\n",
    "\n",
    "The jupyter notebook widgets create better UI interactions in notebooks. This is called the ipywidgets library. There is a lot to this library but we will keep our interactions simple:\n",
    "\n",
    "To replace `input()` statements we use the `interact_manual` decorator function. Like a hat decorates your head, decorator function adds code to another function.\n",
    "\n",
    "`interact_manual` decorator does the following:\n",
    "\n",
    "- generates a *textbox* for any string input\n",
    "- generates a *slider* for any int/float input\n",
    "- generates a *dropdown* for any list input\n",
    "- generates a *button* titled \"Run interact\"\n",
    "\n",
    "When the **button is clicked** the code inside the decorated function is executed and the widget values are used as input. Use `display()` instead of `print()` for output."
   ]
  },
  {
   "cell_type": "code",
   "execution_count": 1,
   "metadata": {},
   "outputs": [
    {
     "name": "stdout",
     "output_type": "stream",
     "text": [
      "Kernel Python: /opt/homebrew/opt/python@3.10/bin/python3.10\n",
      "Requirement already satisfied: ipywidgets in /opt/homebrew/lib/python3.10/site-packages (8.1.7)\n",
      "Requirement already satisfied: comm>=0.1.3 in /Users/williams.lyu/Library/Python/3.10/lib/python/site-packages (from ipywidgets) (0.2.3)\n",
      "Requirement already satisfied: ipython>=6.1.0 in /Users/williams.lyu/Library/Python/3.10/lib/python/site-packages (from ipywidgets) (8.37.0)\n",
      "Requirement already satisfied: traitlets>=4.3.1 in /Users/williams.lyu/Library/Python/3.10/lib/python/site-packages (from ipywidgets) (5.14.3)\n",
      "Requirement already satisfied: widgetsnbextension~=4.0.14 in /opt/homebrew/lib/python3.10/site-packages (from ipywidgets) (4.0.14)\n",
      "Requirement already satisfied: jupyterlab_widgets~=3.0.15 in /opt/homebrew/lib/python3.10/site-packages (from ipywidgets) (3.0.15)\n",
      "Requirement already satisfied: decorator in /Users/williams.lyu/Library/Python/3.10/lib/python/site-packages (from ipython>=6.1.0->ipywidgets) (5.2.1)\n",
      "Requirement already satisfied: exceptiongroup in /Users/williams.lyu/Library/Python/3.10/lib/python/site-packages (from ipython>=6.1.0->ipywidgets) (1.3.0)\n",
      "Requirement already satisfied: jedi>=0.16 in /Users/williams.lyu/Library/Python/3.10/lib/python/site-packages (from ipython>=6.1.0->ipywidgets) (0.19.2)\n",
      "Requirement already satisfied: matplotlib-inline in /Users/williams.lyu/Library/Python/3.10/lib/python/site-packages (from ipython>=6.1.0->ipywidgets) (0.1.7)\n",
      "Requirement already satisfied: pexpect>4.3 in /Users/williams.lyu/Library/Python/3.10/lib/python/site-packages (from ipython>=6.1.0->ipywidgets) (4.9.0)\n",
      "Requirement already satisfied: prompt_toolkit<3.1.0,>=3.0.41 in /Users/williams.lyu/Library/Python/3.10/lib/python/site-packages (from ipython>=6.1.0->ipywidgets) (3.0.52)\n",
      "Requirement already satisfied: pygments>=2.4.0 in /Users/williams.lyu/Library/Python/3.10/lib/python/site-packages (from ipython>=6.1.0->ipywidgets) (2.19.2)\n",
      "Requirement already satisfied: stack_data in /Users/williams.lyu/Library/Python/3.10/lib/python/site-packages (from ipython>=6.1.0->ipywidgets) (0.6.3)\n",
      "Requirement already satisfied: typing_extensions>=4.6 in /Users/williams.lyu/Library/Python/3.10/lib/python/site-packages (from ipython>=6.1.0->ipywidgets) (4.15.0)\n",
      "Requirement already satisfied: wcwidth in /Users/williams.lyu/Library/Python/3.10/lib/python/site-packages (from prompt_toolkit<3.1.0,>=3.0.41->ipython>=6.1.0->ipywidgets) (0.2.13)\n",
      "Requirement already satisfied: parso<0.9.0,>=0.8.4 in /Users/williams.lyu/Library/Python/3.10/lib/python/site-packages (from jedi>=0.16->ipython>=6.1.0->ipywidgets) (0.8.5)\n",
      "Requirement already satisfied: ptyprocess>=0.5 in /Users/williams.lyu/Library/Python/3.10/lib/python/site-packages (from pexpect>4.3->ipython>=6.1.0->ipywidgets) (0.7.0)\n",
      "Requirement already satisfied: executing>=1.2.0 in /Users/williams.lyu/Library/Python/3.10/lib/python/site-packages (from stack_data->ipython>=6.1.0->ipywidgets) (2.2.1)\n",
      "Requirement already satisfied: asttokens>=2.1.0 in /Users/williams.lyu/Library/Python/3.10/lib/python/site-packages (from stack_data->ipython>=6.1.0->ipywidgets) (3.0.0)\n",
      "Requirement already satisfied: pure-eval in /Users/williams.lyu/Library/Python/3.10/lib/python/site-packages (from stack_data->ipython>=6.1.0->ipywidgets) (0.2.3)\n"
     ]
    },
    {
     "name": "stderr",
     "output_type": "stream",
     "text": [
      "\n",
      "\u001b[1m[\u001b[0m\u001b[34;49mnotice\u001b[0m\u001b[1;39;49m]\u001b[0m\u001b[39;49m A new release of pip is available: \u001b[0m\u001b[31;49m25.1.1\u001b[0m\u001b[39;49m -> \u001b[0m\u001b[32;49m25.2\u001b[0m\n",
      "\u001b[1m[\u001b[0m\u001b[34;49mnotice\u001b[0m\u001b[1;39;49m]\u001b[0m\u001b[39;49m To update, run: \u001b[0m\u001b[32;49m/opt/homebrew/opt/python@3.10/bin/python3.10 -m pip install --upgrade pip\u001b[0m\n"
     ]
    },
    {
     "data": {
      "text/plain": [
       "0"
      ]
     },
     "execution_count": 1,
     "metadata": {},
     "output_type": "execute_result"
    }
   ],
   "source": [
    "import sys, subprocess\n",
    "print(\"Kernel Python:\", sys.executable)\n",
    "subprocess.check_call([sys.executable, \"-m\", \"pip\", \"install\", \"ipywidgets\"])\n"
   ]
  },
  {
   "cell_type": "code",
   "execution_count": 2,
   "metadata": {},
   "outputs": [
    {
     "data": {
      "application/vnd.jupyter.widget-view+json": {
       "model_id": "8ff13d62ee294337a2dca8c10dac23eb",
       "version_major": 2,
       "version_minor": 0
      },
      "text/plain": [
       "interactive(children=(IntSlider(value=5, description='x', max=20), Button(description='Run Interact', style=Bu…"
      ]
     },
     "metadata": {},
     "output_type": "display_data"
    }
   ],
   "source": [
    "from IPython.display import display\n",
    "from ipywidgets import interact_manual, IntSlider\n",
    "\n",
    "def double(x):\n",
    "    print(\"result:\", x * 2)\n",
    "\n",
    "interact_manual(double, x=IntSlider(value=5, min=0, max=20, step=1));\n"
   ]
  },
  {
   "cell_type": "code",
   "execution_count": 3,
   "metadata": {},
   "outputs": [
    {
     "data": {
      "application/vnd.jupyter.widget-view+json": {
       "model_id": "0873fc525fc744e2b26ce4bd7994636b",
       "version_major": 2,
       "version_minor": 0
      },
      "text/plain": [
       "interactive(children=(Dropdown(description='color', options=('red', 'white', 'blue'), value='red'), FloatSlide…"
      ]
     },
     "metadata": {},
     "output_type": "display_data"
    }
   ],
   "source": [
    "# Example:\n",
    "vals = [ 'red', 'white', 'blue'] # this is a list type, it will generate a dropdown widget\n",
    "min, max, step = 0, 20, 0.5      # this is the range of the slider, and the steps\n",
    "text = \"testing\"                 # this is a string type, it will generate a textbox\n",
    "\n",
    "@interact_manual(color=vals, grade=(min,max,step), name=text) # DECORATOR function with values\n",
    "def on_click(color, grade, name):                             # DECORATED function. This code \n",
    "    display(color)                                            # runs when the button is clicked \n",
    "    display(grade)                                            # (thus the name on_click)\n",
    "    display(name)"
   ]
  },
  {
   "cell_type": "markdown",
   "metadata": {},
   "source": [
    "## Note\n",
    "\n",
    "For more complex interactions we will use the streamlit library"
   ]
  },
  {
   "cell_type": "markdown",
   "metadata": {},
   "source": [
    "## Challenge 2-2-1\n",
    "\n",
    "Let's create a simple widget interaction for display student status for their GPA:\n",
    "\n",
    "inputs:\n",
    "\n",
    "- student name\n",
    "- major: one of \"IMT\", \"IST\", or \"ADA\"\n",
    "- gpa between 0.0 and 4.0\n",
    "\n",
    "process:\n",
    "\n",
    "- when gpa < 1.8 then status is \"probation\"\n",
    "- when gpa > 3.4 then status is \"deans list\"\n",
    "- else status is \"no list\"\n",
    "\n",
    "output:\n",
    "\n",
    "- display the following statement:\n",
    "    \"NAME in MAJOR with GPA is on STATUS\""
   ]
  },
  {
   "cell_type": "markdown",
   "metadata": {},
   "source": []
  }
 ],
 "metadata": {
  "kernelspec": {
   "display_name": "Python 3",
   "language": "python",
   "name": "python3"
  },
  "language_info": {
   "codemirror_mode": {
    "name": "ipython",
    "version": 3
   },
   "file_extension": ".py",
   "mimetype": "text/x-python",
   "name": "python",
   "nbconvert_exporter": "python",
   "pygments_lexer": "ipython3",
   "version": "3.10.18"
  }
 },
 "nbformat": 4,
 "nbformat_minor": 2
}
