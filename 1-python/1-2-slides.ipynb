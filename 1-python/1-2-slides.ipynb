{
 "cells": [
  {
   "cell_type": "markdown",
   "id": "07e80efc-c2ad-4f3f-9154-a23b5d3f9140",
   "metadata": {},
   "source": [
    "# Python 1.2\n",
    "\n",
    "Iterations, lists, dictionaries, comprehensions"
   ]
  },
  {
   "cell_type": "markdown",
   "id": "314b4e2b-6dfe-4b87-ac90-2c6570d9a23c",
   "metadata": {},
   "source": [
    "# Iterations\n",
    "\n",
    "- Iterations are code strucures which allow us to repeat sections of code while a condition is true, or a fixed number of time.\n",
    "- They allow us to do more with less code!"
   ]
  },
  {
   "cell_type": "markdown",
   "id": "1fd25f75-3884-4b47-95a5-79d811563bbe",
   "metadata": {},
   "source": [
    "# Definite loops (For Loop)\n",
    "\n",
    "- A **Definite loop** iterates over a a fixed set of values.\n",
    "- Real life iterations: Knocking on every door in your dorm. Calling each person in the contact list on your phone.\n",
    "- In Python the **for** statement is used for definite loops \n",
    "- The for loop uses an **iterator** to select each item from the list or range and take action in the loop body. \n",
    "- The **range()** function is useful for getting an iterator of numbers.\n",
    "- The for loop can iterate over any value that is **iterable**. \n"
   ]
  },
  {
   "cell_type": "code",
   "execution_count": null,
   "id": "9175dd5f-d750-4af8-9bd1-93dcd3e9c5b0",
   "metadata": {
    "tags": []
   },
   "outputs": [],
   "source": [
    "# Example: Using the range() function to iteratre over a sequence\n",
    "\n",
    "for i in range(5):\n",
    "    print(i)"
   ]
  },
  {
   "cell_type": "markdown",
   "id": "6d5c1369-6790-4897-a8a6-ffb9fc93bc14",
   "metadata": {},
   "source": [
    "In the example above:\n",
    "\n",
    "- the `print()` statement repeats as part of the loop body.\n",
    "- the variable `i` is the **iterator**. It stores the current value of the `range(5)` for each iteration of the loop\n",
    "- `range(5)` is an example of the **iterable** - the thing we are looping over.\n",
    "- `range(5)` by definition creates an iterable of sequential numbers from 0 to 4: `0,1,2,3,4`\n",
    "- Therefore the code repeats `5` times..."
   ]
  },
  {
   "cell_type": "code",
   "execution_count": 1,
   "id": "abf59155-3fd5-4e2d-87dc-11d0fb10f6e8",
   "metadata": {
    "tags": []
   },
   "outputs": [
    {
     "name": "stdout",
     "output_type": "stream",
     "text": [
      "t\n",
      "t\n"
     ]
    }
   ],
   "source": [
    "# Example: strings are iterable by their individual characters\n",
    "for ch in \"testing\":\n",
    "    if ch == \"t\":\n",
    "        print(ch)"
   ]
  },
  {
   "cell_type": "markdown",
   "id": "562ba741-6b75-404a-a709-5d65f3e819c0",
   "metadata": {},
   "source": [
    "Questions about the example above:\n",
    "\n",
    "- What is the iterator variable?\n",
    "- What is the iterable?\n",
    "- How many times does this loop \"iterate\"?\n",
    "- Why does it only print two `t`'s?"
   ]
  },
  {
   "cell_type": "markdown",
   "id": "6599cf40-5304-4dbc-88b6-8b3885f9f04e",
   "metadata": {},
   "source": [
    "## The break command\n",
    "\n",
    "- `break` keyword exits the loop immediately.\n",
    "- Commonly used when there is no longer a reason to loop (you achieved your goal).\n",
    "- You can add an `else` to the `for` loop to execute when break does not happen."
   ]
  },
  {
   "cell_type": "code",
   "execution_count": null,
   "id": "6f902371-4132-4dbe-a12a-118db4dbfc41",
   "metadata": {
    "tags": []
   },
   "outputs": [],
   "source": [
    "# Example: find a letter in a text string\n",
    "\n",
    "text = input(\"Enter Some Text:\")\n",
    "find = input(\"Enter character to find:\")\n",
    "for ch in text:\n",
    "    if ch == find:\n",
    "        print(f\"Found {find} in {text}!\")\n",
    "        break\n",
    "else:\n",
    "    print(f\"Unable to find {find} in {text}!\")"
   ]
  },
  {
   "cell_type": "markdown",
   "id": "f3c7ae4d-9bf1-4c4c-8153-32f1548bc727",
   "metadata": {},
   "source": [
    "```\n",
    "Enter Some Text: testing\n",
    "Enter character to find: n\n",
    "Found n in testing!\n",
    "\n",
    "Enter Some Text: testing\n",
    "Enter character to find: x\n",
    "Unable to find x in testing!\n",
    "\n",
    "```"
   ]
  },
  {
   "cell_type": "markdown",
   "id": "d509bdf7-4a2d-4e2f-984d-10a2264902e3",
   "metadata": {},
   "source": [
    "# Challenge 1-2-1\n",
    "\n",
    "Write a program to accept a password as input. \n",
    "If the password input is \"secret\" display \"access granted\"\n",
    "else say \"invalid password\"\n",
    "\n",
    "repeat the above up to 5 times. when the correct password is entered, stop looping\n",
    "when 5 loops have exhaused print \"you are locked out\"\n"
   ]
  },
  {
   "cell_type": "code",
   "execution_count": null,
   "id": "9d67393f",
   "metadata": {},
   "outputs": [],
   "source": [
    "# Challenge 1-2-1"
   ]
  },
  {
   "cell_type": "markdown",
   "id": "21ef9a1a-e7d7-4473-be53-b7756394adff",
   "metadata": {},
   "source": [
    "# Indefinite loops\n",
    "\n",
    "- Indefinite loops are based on external input and are non-determinsitic.\n",
    "- Unlike definite loops we do not know when the loop will stop.\n",
    "- Examples: get tutoring when you fail an exam (you may never fail an exam). When the temperature drops below 0 turn on the de-icer.\n",
    "- In Python, we use `while` statement for indefinite loops.\n",
    "- The classic indefinite loop is a sentiel controlled loop that repeats until a specific event occurs."
   ]
  },
  {
   "cell_type": "code",
   "execution_count": null,
   "id": "af4dba9c-ca74-45e9-827a-f9944fa92342",
   "metadata": {
    "tags": []
   },
   "outputs": [],
   "source": [
    "# Example: Will I ever say the magic word?\n",
    "while True:\n",
    "    word = input(\"Say the magic word!\")\n",
    "    if word == 'please':\n",
    "        break\n",
    "    print(\"You didn't say the magic word!\")"
   ]
  },
  {
   "cell_type": "markdown",
   "id": "44a68e03-b46e-441b-ad29-717e8cd9b430",
   "metadata": {},
   "source": [
    "In the above example the word \"please\" is the **sentinel value**"
   ]
  },
  {
   "cell_type": "code",
   "execution_count": null,
   "id": "aed2e57b-6952-421b-b82f-d77d4f6902c6",
   "metadata": {
    "tags": []
   },
   "outputs": [],
   "source": [
    "# Example: Sentinel loop\n",
    "\n",
    "count = 0\n",
    "while True:\n",
    "    raw = input(\"Enter a number or type 'stop':\")\n",
    "    if raw == 'stop':\n",
    "        break\n",
    "    count = count + 1\n",
    "\n",
    "print(f\"You entered {count} items.\")"
   ]
  },
  {
   "cell_type": "markdown",
   "id": "6552d161-d5ae-4903-81bb-e71acbd890ac",
   "metadata": {},
   "source": [
    "# Challenge 1-2-2\n",
    "\n",
    "Write a program to accept numbers until the user enters: 0\n",
    "\n",
    "The program should count the number of positive and negative numbers entered, \n",
    "and print those values after the 0 is entered. "
   ]
  },
  {
   "cell_type": "code",
   "execution_count": 1,
   "id": "b53470b0",
   "metadata": {},
   "outputs": [
    {
     "name": "stdout",
     "output_type": "stream",
     "text": [
      "There are 1 positive numbers.\n",
      "There are 0 negative numbers.\n"
     ]
    }
   ],
   "source": [
    "# Challenge 1-2-2\n",
    "\n",
    "positive_count = 0\n",
    "negative_count = 0\n",
    "\n",
    "while True:\n",
    "    num = int(input(\"Enter a number (enter 0 to finish): \"))\n",
    "\n",
    "    if num == 0:\n",
    "        break\n",
    "    elif num > 0:\n",
    "        positive_count = positive_count + 1\n",
    "    else:  \n",
    "        negative_count += 1\n",
    "    \n",
    "print(f\"There are {positive_count} positive numbers.\")\n",
    "print(f\"There are {negative_count} negative numbers.\")"
   ]
  },
  {
   "cell_type": "markdown",
   "id": "c9b88849-9ee6-4b88-a5a0-0bdcc89890e4",
   "metadata": {},
   "source": [
    "# Lists\n",
    "\n",
    "- lists are iterable, sequences of values\n",
    "- The values in the list are mutable - you can change them.\n",
    "- items in the list can be accessed by a zero-based index.\n"
   ]
  },
  {
   "cell_type": "code",
   "execution_count": 2,
   "id": "cf7b1bee-03d8-44b7-9304-d50e88502feb",
   "metadata": {
    "tags": []
   },
   "outputs": [
    {
     "name": "stdout",
     "output_type": "stream",
     "text": [
      "The first item is: milk\n",
      "The second item is: bread\n",
      "The last item is: apples\n"
     ]
    }
   ],
   "source": [
    "# Example: Items in the list\n",
    "\n",
    "items = [ 'milk', 'bread' ,'cheese', 'apples' ]\n",
    "\n",
    "print(\"The first item is:\", items[0])\n",
    "print(\"The second item is:\", items[1])\n",
    "print(\"The last item is:\", items[-1])"
   ]
  },
  {
   "cell_type": "code",
   "execution_count": null,
   "id": "015b8f77-6460-456d-9938-ff45fb52a376",
   "metadata": {
    "tags": []
   },
   "outputs": [],
   "source": [
    "# Lists are iterable\n",
    "items = [ 'milk', 'bread' ,'cheese', 'apples' ]\n",
    "for item in items:\n",
    "    print(item)"
   ]
  },
  {
   "cell_type": "markdown",
   "id": "09fdd5d7-8d05-4564-8661-78c90f3bec92",
   "metadata": {},
   "source": [
    "Questions about the example above:\n",
    "\n",
    "- What is the iterator variable?\n",
    "- What is the iterable?\n",
    "- How many times does this loop \"iterate\"?"
   ]
  },
  {
   "cell_type": "markdown",
   "id": "ac585c53-5b51-4843-83e7-b8376168b161",
   "metadata": {
    "tags": []
   },
   "source": [
    "## The in operator\n",
    "\n",
    "The `in` operator checks for existence of an item in a list."
   ]
  },
  {
   "cell_type": "code",
   "execution_count": 3,
   "id": "52d9c4a0-40c3-47fa-9b54-bc535eb7687e",
   "metadata": {
    "tags": []
   },
   "outputs": [
    {
     "name": "stdout",
     "output_type": "stream",
     "text": [
      "5 in [10, 15, 20]? False\n",
      "20 in [10, 15, 20]? True\n"
     ]
    }
   ],
   "source": [
    "# Example: whats in the list?\n",
    "numbers = [10, 15, 20]\n",
    "print(f\"5 in {numbers}?\", 5 in numbers)\n",
    "print(f\"20 in {numbers}?\", 20 in numbers)"
   ]
  },
  {
   "cell_type": "markdown",
   "id": "e05915b7-f6f5-4aed-bce4-f6280935d505",
   "metadata": {
    "tags": []
   },
   "source": [
    "## List Methods\n",
    "\n",
    "There are numerous list methods which allow you to add remove and find values in the list, etc...\n",
    "\n",
    "https://docs.python.org/3/library/stdtypes.html?highlight=list#mutable-sequence-types\n"
   ]
  },
  {
   "cell_type": "code",
   "execution_count": null,
   "id": "be7bb6d6-7c46-4a22-a616-1b5d7f50aa5a",
   "metadata": {
    "tags": []
   },
   "outputs": [],
   "source": [
    "# Example: manipulating a list\n",
    "\n",
    "# An empty list\n",
    "colors = []\n",
    "\n",
    "# Add \"blue\" to the end\n",
    "colors.append(\"blue\")\n",
    "\n",
    "# add \"red\" to the beginning\n",
    "colors.insert(0, \"red\")\n",
    "\n",
    "# add \"white\" in the 2nd position\n",
    "colors.insert(1, \"white\")\n",
    "\n",
    "# print ['red', 'white', 'blue']\n",
    "print(colors)\n",
    "\n",
    "# remove the last color\n",
    "blue = colors.pop(-1)\n",
    "\n",
    "# remove \"white\")\n",
    "white = colors.remove(\"white\")\n",
    "\n",
    "# print ['red']\n",
    "print(colors)"
   ]
  },
  {
   "cell_type": "markdown",
   "id": "252fdce5-adaa-423f-870d-bcf1e644658f",
   "metadata": {},
   "source": [
    "# Challenge 1-2-3\n",
    "\n",
    "Write a sentinel controlled loop to input a color until \"quit\" is entered.\n",
    "add each color to a list only when the color is not already in the list\n",
    "print the list each time in the loop"
   ]
  },
  {
   "cell_type": "markdown",
   "id": "37ab8799-d6d3-46cc-92bd-2f7fb98d8ef4",
   "metadata": {},
   "source": [
    "# list comprehensions\n",
    "\n",
    "List comprehensions allow us to create lists from operations on existing lists.\n",
    "\n",
    "\n",
    "Consider the following:"
   ]
  },
  {
   "cell_type": "code",
   "execution_count": null,
   "id": "464ac3b0-5cd9-4037-9eaa-c7ab39ae3214",
   "metadata": {
    "tags": []
   },
   "outputs": [],
   "source": [
    "numbers = [1, 2, 4, 5, 7]\n",
    "evens = []\n",
    "for num in numbers:\n",
    "    if num % 2 ==0: #even\n",
    "        evens.append(num)\n",
    "print(evens)"
   ]
  },
  {
   "cell_type": "code",
   "execution_count": null,
   "id": "84e9641b-ce36-4f0f-a5e3-83e135f6598f",
   "metadata": {
    "tags": []
   },
   "outputs": [],
   "source": [
    "# Same thing as a list comprehension\n",
    "numbers = [1, 2, 4, 5, 7]\n",
    "evens = [ num for num in numbers if num % 2 == 0]\n",
    "print(evens)"
   ]
  },
  {
   "cell_type": "code",
   "execution_count": null,
   "id": "f705a204-dc99-44de-8e78-ed1c816ab587",
   "metadata": {
    "tags": []
   },
   "outputs": [],
   "source": [
    "# This comprehension makes a list out of the first letter in each work\n",
    "words = [\"welcome\", \"other\", \"rent\", \"math\" ]\n",
    "firsts = [ word[0] for word in words ]\n",
    "print(firsts)"
   ]
  },
  {
   "cell_type": "markdown",
   "id": "af2f7bbe-2da1-4e34-850e-9eea092dcba1",
   "metadata": {},
   "source": [
    "# Dictionaries\n",
    "\n",
    "- The **dict** type is designed to store key-value pairs. In Python this is known as a **mapping type**.  \n",
    "`font={'name':'Arial','size': 8}`\n",
    "- Python dictionaries are **mutable** which means you can change the values of the keys after they have been set.\n",
    "- Dictionary values are accessed by **key** not by **index**.  \n",
    "`font['name'] = 'Courier'`\n",
    "- the keys are unique in the dictionary\n",
    "\n",
    "\n",
    "## Dictionary Methods\n",
    "\n",
    "- Like **str** and **list**, the **dict** type has its own set of built-in functions. \n",
    "- https://docs.python.org/3/library/stdtypes.html#mapping-types-dict \n"
   ]
  },
  {
   "cell_type": "markdown",
   "id": "95439362-964d-4f21-8bde-ec3226c74349",
   "metadata": {},
   "source": [
    "## Complex Data Stuctures\n",
    "\n",
    "We can combine lists and dictionaries to create complex data structures in python.\n",
    "\n",
    "These allow us to represent real-world data in code\n"
   ]
  },
  {
   "cell_type": "code",
   "execution_count": null,
   "id": "8fa3a514-99b6-45f2-a699-9757b18a50a9",
   "metadata": {
    "tags": []
   },
   "outputs": [],
   "source": [
    "students = [\n",
    "    { 'name' : 'abby', 'grades' : [100,80,90] },\n",
    "    { 'name' : 'bob', 'grades' : [100,90,90] },\n",
    "    { 'name' : 'chris', 'grades' : [90,100,100] }\n",
    "]"
   ]
  },
  {
   "cell_type": "code",
   "execution_count": null,
   "id": "4b5cdb80-5c81-4200-8134-4294baebdf93",
   "metadata": {
    "tags": []
   },
   "outputs": [],
   "source": [
    "# just print each student name\n",
    "for student in students:\n",
    "    print(student['name'])"
   ]
  },
  {
   "cell_type": "code",
   "execution_count": null,
   "id": "fc0b2493-4c6c-4b99-9bc0-b1028f5798f0",
   "metadata": {
    "tags": []
   },
   "outputs": [],
   "source": [
    "# print each student name and average grade\n",
    "for student in students:\n",
    "    avg_grade = sum(student['grades'])/len(student['grades'])\n",
    "    print(f\"{student['name']}  {avg_grade:.2f}\")"
   ]
  },
  {
   "cell_type": "markdown",
   "id": "bc98afb8-cb0c-4fd0-8fd7-f04728ff8ed1",
   "metadata": {},
   "source": [
    "# Challenge 1-2-4\n",
    "\n",
    "Write a program to create a shopping list. \n",
    "\n",
    "loop until \"quit\" is entered.\n",
    "input a grocery item\n",
    "input a quantity\n",
    "save the item as the key in the dictionary and quantity as the value\n",
    "if the item is in the dictionary already, add the quantity to the existing value"
   ]
  }
 ],
 "metadata": {
  "kernelspec": {
   "display_name": "Python 3",
   "language": "python",
   "name": "python3"
  },
  "language_info": {
   "codemirror_mode": {
    "name": "ipython",
    "version": 3
   },
   "file_extension": ".py",
   "mimetype": "text/x-python",
   "name": "python",
   "nbconvert_exporter": "python",
   "pygments_lexer": "ipython3",
   "version": "3.10.18"
  }
 },
 "nbformat": 4,
 "nbformat_minor": 5
}
