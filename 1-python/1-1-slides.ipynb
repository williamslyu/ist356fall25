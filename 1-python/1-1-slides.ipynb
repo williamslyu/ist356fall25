{
 "cells": [
  {
   "cell_type": "markdown",
   "id": "7a07d5ff-3055-4646-b64f-a7b460a6e236",
   "metadata": {},
   "source": [
    "# Python 1.1\n",
    "\n",
    "Input, output, variables, types, conditionals"
   ]
  },
  {
   "cell_type": "markdown",
   "id": "76cc3cd1-a0e3-442a-8682-8a01d732b988",
   "metadata": {
    "tags": []
   },
   "source": [
    "# Input => Process => Output\n",
    "\n",
    "1. Identify the problem inputs (requirements)\n",
    "2. Identify the problem outputs (results)\n",
    "3. Write an algorithm to transform inputs to outputs.\n",
    "4. If you don't know how to do a step... research it!\n",
    "\n",
    "[![](https://mermaid.ink/img/pako:eNpFjs0KwjAQhF8l7Ll9gRwEWz0Iakt_To2HpdnaQtNITBAJeXdjK7iHYWf4GMZDryUBh2HWr35EY9m5EguLt-9O17JtbpvLuqJt_jb3vqyK_FjXIfxwlqY7lq-aQQKKjMJJxmr_BQTYkRQJ4PGVNKCbrQCxhIiis7p-Lz1waxwl4B4SLR0mvBtUwAecnzElOVltLtvcdXX4AFVJO2c?type=png)](https://mermaid.live/edit#pako:eNpFjs0KwjAQhF8l7Ll9gRwEWz0Iakt_To2HpdnaQtNITBAJeXdjK7iHYWf4GMZDryUBh2HWr35EY9m5EguLt-9O17JtbpvLuqJt_jb3vqyK_FjXIfxwlqY7lq-aQQKKjMJJxmr_BQTYkRQJ4PGVNKCbrQCxhIiis7p-Lz1waxwl4B4SLR0mvBtUwAecnzElOVltLtvcdXX4AFVJO2c)"
   ]
  },
  {
   "cell_type": "markdown",
   "id": "b8c7b34e-ce77-4f8b-900c-eb177fcf0ec9",
   "metadata": {},
   "source": [
    "# Python input and output\n",
    "\n",
    "`print()` does output  \n",
    "`input()` does input, returns input so you must assign it to a variable  "
   ]
  },
  {
   "cell_type": "code",
   "execution_count": null,
   "id": "87192ebf-da0c-41ea-b3d9-697a631794d2",
   "metadata": {
    "tags": []
   },
   "outputs": [],
   "source": [
    "x = input(\"Enter something: \")\n",
    "print(x)"
   ]
  },
  {
   "cell_type": "markdown",
   "id": "ef71775d-130c-4291-ad00-7223b5a3bcbb",
   "metadata": {},
   "source": [
    "# Code Challenge 1-1-1\n",
    "\n",
    "Write a program to input your first name and last name then output your last name, first name"
   ]
  },
  {
   "cell_type": "code",
   "execution_count": null,
   "id": "6a32fcd8",
   "metadata": {},
   "outputs": [],
   "source": []
  },
  {
   "cell_type": "markdown",
   "id": "5a5701ed-bcc5-4bb0-b5e9-505744dca2b4",
   "metadata": {},
   "source": [
    "# F-Strings\n",
    "\n",
    "- F-Strings are Python's answer to **string interpolation**.\n",
    "- This replaces the variable name with its value within a string.\n",
    "- Called an F-string because the `f` tells Python to interpolate the string."
   ]
  },
  {
   "cell_type": "code",
   "execution_count": null,
   "id": "00d32942-a81b-4659-bc1a-3b0fd4adbab0",
   "metadata": {},
   "outputs": [],
   "source": [
    "name = \"George\"\n",
    "print(\"{name} was curious.\")\n",
    "print(f\"{name} was curious.\")"
   ]
  },
  {
   "cell_type": "markdown",
   "id": "228c7ba1-f99b-4ea3-ae55-66d45064b8cc",
   "metadata": {},
   "source": [
    "# Check Yourself 1\n",
    "\n",
    "Which is an example of a properly used string literal?\n",
    "\n",
    "A. `print(welcome)`  \n",
    "B. `print(\"welcome\")`  \n",
    "C. `print \"welcome\"`  \n",
    "D. `print welcome` \n",
    "\n"
   ]
  },
  {
   "cell_type": "markdown",
   "id": "f387e3cc-f9ee-4dbb-aa47-87ca63124ac4",
   "metadata": {},
   "source": [
    "# Variables\n",
    "\n",
    "- **Variables** are named areas of computer memory for storing data. \n",
    "- The **name** can be anything but should make symbolic sense to the programmer.\n",
    "- We **write** to the variable’s memory location with the assignment statement (=)\n",
    "- We **read** from the variable by calling its name. \n",
    "- Variable names must begin with a letter or _ and must only contain letters, numbers or _."
   ]
  },
  {
   "cell_type": "markdown",
   "id": "7e0fe8b2-a051-4e85-8dd6-9ba5ebe999f9",
   "metadata": {},
   "source": [
    "# Variables are of a Specific Type\n",
    "\n",
    "<table style=\"font-size:1.2em;\">\n",
    "    <thead><tr>\n",
    "        <th>Type</th>\n",
    "        <th>Purpose</th>\n",
    "        <th>Examples</th>\n",
    "    </tr></thead>\n",
    "    <tbody>\n",
    "    <tr>\n",
    "        <td><code>int</code></td>\n",
    "        <td>Numeric type for integers only</td>\n",
    "        <td>45, -10</td>\n",
    "    </tr>\n",
    "    <tr>\n",
    "        <td><code>float</code></td>\n",
    "        <td>Numeric type floating point numbers</td>\n",
    "        <td>45, -10</td>\n",
    "    </tr>\n",
    "    <tr>\n",
    "        <td><code>bool</code></td>\n",
    "        <td>True or False values</td>\n",
    "        <td>True, False</td>\n",
    "    </tr>\n",
    "    <tr>\n",
    "        <td><code>str</code></td>\n",
    "        <td>Characters and text</td>\n",
    "        <td>\"A\", 'Mike'</td>\n",
    "    </tr>\n",
    "  </tbody>\n",
    "</table>"
   ]
  },
  {
   "cell_type": "markdown",
   "id": "788ca535-2e2a-43bc-939b-0591869d433c",
   "metadata": {},
   "source": [
    "# Type Detection and Conversion \n",
    "\n",
    "<table style=\"font-size:1.2em;\">\n",
    "    <thead><tr>\n",
    "        <th>Python Function</th>\n",
    "        <th>What It Does</th>\n",
    "        <th>Example of Use</th>\n",
    "    </tr></thead>\n",
    "    <tbody>\n",
    "    <tr>\n",
    "        <td><code>type(<em>n</em>)</code></td>\n",
    "        <td>Returns the current type of <em>n</em></td>\n",
    "        <td><code>type(13) == int</code></td>\n",
    "    </tr>\n",
    "    <tr>\n",
    "        <td><code>int(<em>n</em>)</code></td>\n",
    "        <td>Converts <em>n</em> to type <b>int</b></td>\n",
    "        <td><code>int(\"45\") == 45</code></td>\n",
    "    </tr>\n",
    "    <tr>\n",
    "        <td><code>float(<em>n</em>)</code></td>\n",
    "        <td>Converts <em>n</em> to type <b>float</b></td>\n",
    "        <td><code>float(45) == 45.0</code></td>\n",
    "    </tr>\n",
    "    <tr>\n",
    "        <td><code>str(<em>n</em>)</code></td>\n",
    "        <td>Converts <em>n</em> to type <b>str</b></td>\n",
    "        <td><code>str(4.0) == '4.0'</code></td>\n",
    "    </tr>\n",
    "  </tbody>\n",
    "</table>"
   ]
  },
  {
   "cell_type": "markdown",
   "id": "510a24d2-98f4-432c-9845-917fe80a98c8",
   "metadata": {},
   "source": [
    "# Programmatic Expressions\n",
    "\n",
    "Programmatic Expressions contain **operators** and **operands**. They evaluate to a value, preserving type: \n"
   ]
  },
  {
   "cell_type": "code",
   "execution_count": null,
   "id": "ccb3b79e-0d4a-43b8-9e5e-34c00b31fef1",
   "metadata": {
    "tags": []
   },
   "outputs": [],
   "source": [
    "print(2 + 2)\n",
    "print(2.0 + 2)\n",
    "print(\"sh\" + 'ip')\n",
    "print('hi' + 2) # error"
   ]
  },
  {
   "cell_type": "markdown",
   "id": "48274c2a-bfa5-4252-b8b0-bb712d619722",
   "metadata": {
    "tags": []
   },
   "source": [
    "# Arithmetic Operators\n",
    "\n",
    "<table style=\"font-size:1.2em;\">\n",
    "    <thead><tr>\n",
    "        <th>Operator</th>\n",
    "        <th>What it Does</th>\n",
    "        <th>Example of Use</th>\n",
    "    </tr></thead>\n",
    "    <tbody>\n",
    "    <tr>\n",
    "        <td><code>+</code></td>\n",
    "        <td>Addition or string concenation</td>\n",
    "        <td><code>3 + 4 == 7</code></td>\n",
    "    </tr>\n",
    "    <tr>\n",
    "        <td><code>-</code></td>\n",
    "        <td>Subtraction</td>\n",
    "        <td><code>4 - 3 == 1</code></td>\n",
    "    </tr>\n",
    "    <tr>\n",
    "        <td><code>*</code></td>\n",
    "        <td>Multiplication</td>\n",
    "        <td><code>3 * 4 == 12</code></td>\n",
    "    </tr>\n",
    "    <tr>\n",
    "        <td><code>/</code></td>\n",
    "        <td>Division</td>\n",
    "        <td><code>4 / 3 == 1.33333</code></td>\n",
    "    </tr>\n",
    "    <tr>\n",
    "        <td><code>//</code></td>\n",
    "        <td>Intger division (quotient)</td>\n",
    "        <td><code>13 // 3 == 4</code></td>\n",
    "    </tr>\n",
    "    <tr>\n",
    "        <td><code>%</code></td>\n",
    "        <td>Modulo (remainder)</td>\n",
    "        <td><code>13 % 3 == 1</code></td>\n",
    "    </tr>\n",
    "    <tr>\n",
    "        <td><code>( )</code></td>\n",
    "        <td>Force an order of operations</td>\n",
    "        <td><code>2 * (3 + 4) == 14</code></td>\n",
    "    </tr>\n",
    "  </tbody>\n",
    "</table>"
   ]
  },
  {
   "cell_type": "markdown",
   "id": "dc0da5b7-6fa0-48f8-a4f0-2377a79f4dd2",
   "metadata": {},
   "source": [
    "# Code Challenge 1-1-2\n",
    "\n",
    "Let' write a program to divide up the check among diners in a party.\n",
    "\n",
    "Write a program to input the amount of a restaurant check, tip %, and number of diners\n",
    "\n",
    "The program should output the total amount with tip, and the amount each diner owes."
   ]
  },
  {
   "cell_type": "code",
   "execution_count": null,
   "id": "71c040f8",
   "metadata": {},
   "outputs": [],
   "source": []
  },
  {
   "cell_type": "markdown",
   "id": "97f7364f-db08-433d-b4cc-28ff4732387f",
   "metadata": {},
   "source": [
    "# Check Yourself: Which Type 1?\n",
    "\n",
    "What is the value of `str(314)` ?\n",
    "\n",
    "A. `314`  \n",
    "B. `\"314\"`  \n",
    "C. `int`  \n",
    "D. `'34.0'`\n",
    "\n"
   ]
  },
  {
   "cell_type": "markdown",
   "id": "133fcbbb-0161-4a7d-a989-41db53512c5e",
   "metadata": {
    "tags": []
   },
   "source": [
    "# Check Yourself: Which Type 2?\n",
    "\n",
    "What is the value of `type(314.0)` ?\n",
    "\n",
    "A. `314`  \n",
    "B. `float`  \n",
    "C. `int`  \n",
    "D. `'314.0'`\n",
    "\n"
   ]
  },
  {
   "cell_type": "markdown",
   "id": "aa554e30-f8fc-42cd-a8b9-9f48fce7d526",
   "metadata": {},
   "source": [
    "# Check Yourself: Operators\n",
    "\n",
    "What is the output of the following python code?\n",
    "```\n",
    "a = 10\n",
    "b = 2\n",
    "c = 1 + (a/b)\n",
    "print(c)\n",
    "```\n",
    "\n",
    "A. `6`  \n",
    "B. `5.5`  \n",
    "C. `6.0`  \n",
    "D. `5` \n",
    "\n"
   ]
  },
  {
   "cell_type": "markdown",
   "id": "0ab4ab14-01ae-4222-8a33-af929f470333",
   "metadata": {},
   "source": [
    "# Program Flow Control with IF\n",
    "\n",
    "- The **IF** statement is used to branch your code based on a Boolean expression.  \n",
    "  "
   ]
  },
  {
   "cell_type": "code",
   "execution_count": null,
   "id": "e85b41c4-1825-43ba-bed2-73ba0edb33a9",
   "metadata": {},
   "outputs": [],
   "source": [
    "if boolean-expression:\n",
    "    statements-when-true\n",
    "else:\n",
    "    statemrnts-when-false"
   ]
  },
  {
   "cell_type": "markdown",
   "id": "03d4161a-ae36-4d68-8882-67654c3924ff",
   "metadata": {},
   "source": [
    "[![](https://mermaid.ink/img/pako:eNplULsOwjAM_JXIE0jND3RAghYmWICNMJjGpZXapEpcAar676QvCQlP9p0fd-4gs5oghryyr6xAx-J4VkaE2K5WYr2e8t3NMzLVZNjLV0FGsmvpPpHJH5lj5Rc27R7WVoRG0rtx5H1pTT9R-58LWyHlRqTzTCjENVwYMLH7AQ_D5hFNZmXj3H5WshQQQU2uxlIHa91AKuAiSFQQh1RTjm3FCpTpQyu2bC8fk0E8uIqgbXTwk5b4dFhDPLqJgHTJ1p2md41f67-9_WBU?type=png)](https://mermaid.live/edit#pako:eNplULsOwjAM_JXIE0jND3RAghYmWICNMJjGpZXapEpcAar676QvCQlP9p0fd-4gs5oghryyr6xAx-J4VkaE2K5WYr2e8t3NMzLVZNjLV0FGsmvpPpHJH5lj5Rc27R7WVoRG0rtx5H1pTT9R-58LWyHlRqTzTCjENVwYMLH7AQ_D5hFNZmXj3H5WshQQQU2uxlIHa91AKuAiSFQQh1RTjm3FCpTpQyu2bC8fk0E8uIqgbXTwk5b4dFhDPLqJgHTJ1p2md41f67-9_WBU)"
   ]
  },
  {
   "cell_type": "markdown",
   "id": "583ea611-c243-4fe8-81d4-1a138b0e96e5",
   "metadata": {
    "tags": []
   },
   "source": [
    "# Python’s Relational Operators \n",
    "\n",
    "<table style=\"font-size:1.2em;\">\n",
    "    <thead><tr>\n",
    "        <th>Operator</th>\n",
    "        <th>What it does</th>\n",
    "        <th>Examples</th>\n",
    "    </tr></thead>\n",
    "    <tbody>\n",
    "    <tr>\n",
    "        <td><code> > </code></td>\n",
    "        <td> Greater than </td>\n",
    "        <td> 4>2 (True)</td>\n",
    "    </tr>\n",
    "    <tr>\n",
    "        <td><code> < </code></td>\n",
    "        <td> Less than </td>\n",
    "        <td> 4<2 (False)</td>\n",
    "    </tr>\n",
    "    <tr>\n",
    "        <td><code> == </code></td>\n",
    "        <td> Equal To </td>\n",
    "        <td> 4==2 (False)</td>\n",
    "    </tr>\n",
    "    <tr>\n",
    "        <td><code> != </code></td>\n",
    "        <td> Not Equal To </td>\n",
    "        <td> 4!=2 (True)</td>\n",
    "    </tr>\n",
    "    <tr>\n",
    "        <td><code> >= </code></td>\n",
    "        <td> Greater Than or Equal To </td>\n",
    "        <td> 4>=2 (True)</td>\n",
    "    <tr>\n",
    "        <td><code> <= </code></td>\n",
    "        <td> Less Than or Equal To </td>\n",
    "        <td> 4<=2 (True)</td>\n",
    "    </tr>\n",
    "  </tbody>\n",
    "</table>\n",
    "\n",
    "Expressions consisting of relational operators evaluate to a **Boolean** value\n"
   ]
  },
  {
   "cell_type": "markdown",
   "id": "80477734-80dc-4b62-a277-2cd40d2613a1",
   "metadata": {},
   "source": [
    "# Code Challenge 1-1-3\n",
    "\n",
    "a presssure sensor determines whether or not to open a door\n",
    "\n",
    "When the pressure is larger than 10 we want the door open \n",
    "\n",
    "otherwise we want it closed\n",
    "\n",
    "write code to simulate this"
   ]
  },
  {
   "cell_type": "code",
   "execution_count": null,
   "id": "a880da8d",
   "metadata": {},
   "outputs": [],
   "source": [
    "# Code Challenge 1-1-3\n",
    "\n"
   ]
  },
  {
   "cell_type": "markdown",
   "id": "b9c5044e-b598-419c-be3c-b3175b8406e0",
   "metadata": {
    "tags": []
   },
   "source": [
    "# Check Yourself: Relational Operators\n",
    "\n",
    "On Which line number is the Boolean expression True?  "
   ]
  },
  {
   "cell_type": "code",
   "execution_count": 1,
   "id": "3acd3cc5-cc20-4949-ae0a-3adcb69dd1d5",
   "metadata": {},
   "outputs": [
    {
     "data": {
      "text/plain": [
       "False"
      ]
     },
     "execution_count": 1,
     "metadata": {},
     "output_type": "execute_result"
    }
   ],
   "source": [
    "x = 15\n",
    "y = 20\n",
    "z = 2\n",
    "x > y\n",
    "z*x <= y\n",
    "y >= x-z\n",
    "z*10 == x"
   ]
  },
  {
   "cell_type": "markdown",
   "id": "cca4513e-eea2-4497-abae-bee76216d85d",
   "metadata": {},
   "source": [
    "A. `4`  \n",
    "B. `5`  \n",
    "C. `6`  \n",
    "D. `7`  \n"
   ]
  },
  {
   "cell_type": "markdown",
   "id": "62e1aa25-2b4d-4822-96e0-8211ac13b434",
   "metadata": {},
   "source": [
    "# Python’s Logical Operators\n",
    "\n",
    "<table style=\"font-size:1.2em;\">\n",
    "    <thead><tr>\n",
    "        <th>Operator</th>\n",
    "        <th>What it does</th>\n",
    "        <th>Examples</th>\n",
    "    </tr></thead>\n",
    "    <tbody>\n",
    "    <tr>\n",
    "        <td><code> and </code></td>\n",
    "        <td> True only when both are True </td>\n",
    "        <td> 4>2 and 4<5 (True)</td>\n",
    "    </tr>\n",
    "    <tr>\n",
    "        <td><code> or </code></td>\n",
    "        <td> False only when both are False </td>\n",
    "        <td> 4<2 or 4==4 (True)</td>\n",
    "    </tr>\n",
    "    <tr>\n",
    "        <td><code> not </code></td>\n",
    "        <td> Negation(Opposite) </td>\n",
    "        <td> not 4==2 (True)</td>\n",
    "    </tr>\n",
    "    <tr>\n",
    "        <td><code> in </code></td>\n",
    "        <td> Set operator </td>\n",
    "        <td> 4 in [2,4,7] (True)</td>\n",
    "    </tr>\n",
    "  </tbody>\n",
    "</table>\n",
    "\n"
   ]
  },
  {
   "cell_type": "markdown",
   "id": "9ac7e4d7-7179-4252-b7d0-8d9358e5dc18",
   "metadata": {},
   "source": [
    "# Check Yourself: Logical Operators\n",
    "\n",
    "On Which line number is the Boolean expression True?  "
   ]
  },
  {
   "cell_type": "code",
   "execution_count": null,
   "id": "5e96a68a-60ba-4433-a86d-f72feb430cf5",
   "metadata": {},
   "outputs": [],
   "source": [
    "raining = False\n",
    "snowing = True\n",
    "age = 45\n",
    "age < 18 and raining\n",
    "age >= 18 and not snowing\n",
    "not snowing or not raining\n",
    "age == 45 and not snowing"
   ]
  },
  {
   "cell_type": "markdown",
   "id": "f186bcab-b1a1-431f-8c51-7f2fb4b18dcd",
   "metadata": {
    "tags": []
   },
   "source": [
    "A. `4`  \n",
    "B. `5`  \n",
    "C. `6`  \n",
    "D. `7`  \n"
   ]
  },
  {
   "cell_type": "markdown",
   "id": "495d6c0c-07f4-41ca-b7da-227f77d49ab4",
   "metadata": {},
   "source": [
    "# Multiple Decisions: IF ladder\n",
    "\n",
    "Use elif to make more than one decision in your if statement. Only one code block within the ladder is executed."
   ]
  },
  {
   "cell_type": "code",
   "execution_count": null,
   "id": "b01f3426-b664-4b2c-a400-c313d6e36478",
   "metadata": {},
   "outputs": [],
   "source": [
    "if boolean-expression1:\n",
    "    statements-when-exp1-true\n",
    "elif boolean-expression2:\n",
    "    statements-when-exp2-true\n",
    "elif boolean-expression3:\n",
    "    statements-when-exp3-true\n",
    "else:\n",
    "    statements-none-are-true"
   ]
  },
  {
   "cell_type": "markdown",
   "id": "2bd5504b-1d92-471f-a92c-085f4575fcbc",
   "metadata": {},
   "source": [
    "[![](https://mermaid.ink/img/pako:eNptkk9PxCAQxb8KmdNuUg6FnnowWWM96UW9WQ9YprZJCxtKs5qm3136hw3ocpr58TLwHkxQaYmQQ93pS9UIY8nTS6mIW6fDgRyPW32fTp9adygUxe-zoem8cxZz5jmPOd95kb4PVljsUdmBXhr086g1I37sInZbxCIRvy3ikSj7J1J604WqwOiJUHrn7HrbriWPohtwwc6ut_2Hc2874kUWjnlzJ640DYdcKQtHXCn3ua33KnxAUcejLvMdJNCj6UUr3fNOy24JtnFZlJC7UmItxs6WUKrZScVo9euPqiBfkklgPEsX3EMrvozoIa8XTwmgbK02z9uXWX_O_AsXZalz?type=png)](https://mermaid.live/edit#pako:eNptkk9PxCAQxb8KmdNuUg6FnnowWWM96UW9WQ9YprZJCxtKs5qm3136hw3ocpr58TLwHkxQaYmQQ93pS9UIY8nTS6mIW6fDgRyPW32fTp9adygUxe-zoem8cxZz5jmPOd95kb4PVljsUdmBXhr086g1I37sInZbxCIRvy3ikSj7J1J604WqwOiJUHrn7HrbriWPohtwwc6ut_2Hc2874kUWjnlzJ640DYdcKQtHXCn3ua33KnxAUcejLvMdJNCj6UUr3fNOy24JtnFZlJC7UmItxs6WUKrZScVo9euPqiBfkklgPEsX3EMrvozoIa8XTwmgbK02z9uXWX_O_AsXZalz)"
   ]
  },
  {
   "cell_type": "code",
   "execution_count": null,
   "id": "ef42cb40-6212-4abb-9907-063129d5dd75",
   "metadata": {
    "tags": []
   },
   "outputs": [],
   "source": [
    "#Elif versus multiple ifs...\n",
    "# One decision or multiple decisions. \n",
    "\n",
    "x = int(input(\"enter an integer\"))\n",
    "\n",
    "# one decision\n",
    "if x>10:\n",
    "    print(\"A:bigger than 10\")\n",
    "elif x>20:\n",
    "    print(\"A:bigger than 20\")    \n",
    "\n",
    "    # Multiple decisions\n",
    "if x>10:\n",
    "    print(\"B:bigger than 10\")\n",
    "if x>20:\n",
    "    print(\"B:bigger than 20\")"
   ]
  },
  {
   "cell_type": "markdown",
   "id": "7929eb66-924b-4585-903b-91ad17fa7f0d",
   "metadata": {},
   "source": [
    "# Check Yourself: IF Statement\n",
    "\n",
    "Assuming values ` x = 25 and y = 6` what value is printed?"
   ]
  },
  {
   "cell_type": "code",
   "execution_count": null,
   "id": "4ecbfdc7-cd3e-46ff-a55a-c5facffb1e2f",
   "metadata": {},
   "outputs": [],
   "source": [
    "if x > 20:\n",
    "    if y == 4:\n",
    "        print(\"One\")\n",
    "    elif y > 4:\n",
    "        print(\"Two\")\n",
    "    else:\n",
    "        print(\"Three\")\n",
    "else:\n",
    "    print(\"Four\")"
   ]
  },
  {
   "cell_type": "markdown",
   "id": "ec1c2afd-d25a-4815-8455-0fd5f170f9a6",
   "metadata": {},
   "source": [
    "A. `One`  \n",
    "B. `Two`  \n",
    "C. `Three`  \n",
    "D. `Four`  \n"
   ]
  },
  {
   "cell_type": "markdown",
   "id": "b9023e21-f74c-4728-b61b-02ea1d30759a",
   "metadata": {},
   "source": [
    "# Code Challenge 1-1-4 \n",
    "\n",
    "### Number to Letter grade\n",
    "\n",
    "- Letter grades in a college class are computed as follows: \n",
    "    \n",
    "   - 95 and above is an A\n",
    "   - 75 and above, but below 95 is a B\n",
    "   - 50 and above, but below 75 is a C\n",
    "   - below 50 is F\n",
    "   \n",
    "- Write a program to input the number grade and calculate the letter grade\n",
    "\n",
    "- Re-write to account for \"bad\" grades > 120 or < 0\n"
   ]
  },
  {
   "cell_type": "code",
   "execution_count": null,
   "id": "e03b9c77-7dda-4b1e-9996-c7a58f904831",
   "metadata": {},
   "outputs": [],
   "source": [
    "# Code for Challenge 1-1-4"
   ]
  }
 ],
 "metadata": {
  "kernelspec": {
   "display_name": "Python 3",
   "language": "python",
   "name": "python3"
  },
  "language_info": {
   "codemirror_mode": {
    "name": "ipython",
    "version": 3
   },
   "file_extension": ".py",
   "mimetype": "text/x-python",
   "name": "python",
   "nbconvert_exporter": "python",
   "pygments_lexer": "ipython3",
   "version": "3.10.18"
  }
 },
 "nbformat": 4,
 "nbformat_minor": 5
}
